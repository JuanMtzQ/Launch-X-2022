{
  "cells": [
    {
      "cell_type": "markdown",
      "metadata": {},
      "source": [
        "# Ejercicio: Uso de funciones en Python"
      ]
    },
    {
      "cell_type": "markdown",
      "metadata": {},
      "source": [
        "### Ejercicio 1: Trabajar con argumentos en funciones\n",
        "\n",
        "Los argumentos requeridos en las funciones se utilizan cuando las funciones necesitan que esos argumentos funcionen correctamente. En este ejercicio, construirás un informe de combustible que requiere información de varias ubicaciones de combustible en todo el cohete.\n",
        "\n"
      ]
    },
    {
      "cell_type": "markdown",
      "metadata": {},
      "source": [
        "> **TIP**\n",
        "> Dedica unos minutos para tratar de encontrar una solución. Luego desplázate hacia abajo hasta la parte inferior para ver si has logrado compilar el programa de acuerdo con las especificaciones\n",
        "\n",
        "Comienza por crear una función que necesite tres lecturas de combustible y devuelva un informe:"
      ]
    },
    {
      "cell_type": "code",
      "execution_count": 33,
      "metadata": {},
      "outputs": [],
      "source": [
        "# Función para leer 3 tanques de combustible y muestre el promedio\n",
        "def combustible(tanque1, tanque2, tanque3):\n",
        "  print(f\"\"\"\n",
        "  Combustible disponible en el tanque 1: {tanque1}\n",
        "  Combustible disponible en el tanque 2: {tanque2}\n",
        "  Combustible disponible en el tanque 3: {tanque3}\n",
        "  \"\"\")"
      ]
    },
    {
      "cell_type": "markdown",
      "metadata": {},
      "source": [
        "Ahora que hemos definido la función de informes, vamos a comprobarlo. Para esta misión, los tanques no están llenos:"
      ]
    },
    {
      "cell_type": "code",
      "execution_count": 12,
      "metadata": {},
      "outputs": [
        {
          "name": "stdout",
          "output_type": "stream",
          "text": [
            "\n",
            "  Combustible disponible en el tanque 1: 0\n",
            "  Combustible disponible en el tanque 2: 0\n",
            "  Combustible disponible en el tanque 3: 0\n",
            "  \n",
            "None\n"
          ]
        }
      ],
      "source": [
        "\n",
        "# Llamamos a la función que genera el reporte print(funcion(tanque1, tanque2, tanque3))\n",
        "print(combustible(0,0,0))"
      ]
    },
    {
      "cell_type": "markdown",
      "metadata": {},
      "source": [
        "En lugar de simplemente crear el informe, la función también está calculando el promedio. Mejora la legibilidad extrayendo el cálculo promedio de la función en una nueva función para que el promedio se pueda hacer de forma independiente:"
      ]
    },
    {
      "cell_type": "code",
      "execution_count": 13,
      "metadata": {},
      "outputs": [],
      "source": [
        "# Función promedio \n",
        "def promedio(*args):\n",
        "  promedio = sum(args) / len(args)\n",
        "  return promedio"
      ]
    },
    {
      "cell_type": "code",
      "execution_count": 19,
      "metadata": {},
      "outputs": [
        {
          "data": {
            "text/plain": [
              "20.0"
            ]
          },
          "execution_count": 19,
          "metadata": {},
          "output_type": "execute_result"
        }
      ],
      "source": [
        "promedio(10, 20, 30)"
      ]
    },
    {
      "cell_type": "markdown",
      "metadata": {},
      "source": [
        "Ahora actualiza la función de informes para llamando a la nueva función del promedio:\n"
      ]
    },
    {
      "cell_type": "code",
      "execution_count": 45,
      "metadata": {},
      "outputs": [],
      "source": [
        "# Actualiza la función\n",
        "def informe_combustible(tanque1, tanque2, tanque3):\n",
        "  \n",
        "  print(f\"\"\"\n",
        "  Promedio de combustible: {promedio(tanque1, tanque2, tanque3)}\"\"\")\n",
        "  combustible(tanque1, tanque2, tanque3)"
      ]
    },
    {
      "cell_type": "code",
      "execution_count": 47,
      "metadata": {},
      "outputs": [
        {
          "name": "stdout",
          "output_type": "stream",
          "text": [
            "\n",
            "  Promedio de combustible: 20.0\n",
            "\n",
            "  Combustible disponible en el tanque 1: 10\n",
            "  Combustible disponible en el tanque 2: 20\n",
            "  Combustible disponible en el tanque 3: 30\n",
            "  \n"
          ]
        }
      ],
      "source": [
        "informe_combustible(10, 20, 30)"
      ]
    },
    {
      "cell_type": "markdown",
      "metadata": {},
      "source": [
        "> Recuerda: Lo importante es intentarlo, puedes auxiliarte de internet, libros, etc. El objetivo de una kata es la comprobación de la comprensión de la lección y su aplicación inmediata a la resolución de problemas. Go for it!"
      ]
    },
    {
      "cell_type": "markdown",
      "metadata": {},
      "source": [
        "## Ejercicio 2: Trabajo con argumentos de palabra clave"
      ]
    },
    {
      "cell_type": "markdown",
      "metadata": {},
      "source": [
        "### Ejercicio : Trabajar con argumentos de palabras clave en funciones\n",
        "En este ejercicio, construirás un informe de cohete que requiere varias piezas de información, como el tiempo hasta el destino, el combustible a la izquierda y el nombre del destino. Comienza por crear una función que creará un informe preciso de la misión:"
      ]
    },
    {
      "cell_type": "code",
      "execution_count": 70,
      "metadata": {},
      "outputs": [],
      "source": [
        "# Función con un informe preciso de la misión. Considera hora de prelanzamiento, tiempo de vuelo, destino, tanque externo y tanque interno\n",
        "from datetime import timedelta, datetime\n",
        "\n",
        "def tiempo_vuelo(minutos):\n",
        "    tiempo_actual = datetime.now()\n",
        "    horas = round(minutos/60)\n",
        "    llegada = tiempo_actual + timedelta(hours=horas)\n",
        "    return llegada.strftime(f'%A %H:%M')\n",
        "\n",
        "def informe(lanzamiento, destino, t_vuelo, tanque1, tanque2, tanque3): \n",
        "  print(f\"\"\"Informe de estado\n",
        "  \n",
        "  Fecha y hora actual: {datetime.now()}\n",
        "  Destino: {destino}\n",
        "  \n",
        "  Tiempo para el lanzamiento: {lanzamiento}\n",
        "  Tiempo de vuelo: {t_vuelo}\n",
        "  Dia y hora de llegada: {tiempo_vuelo(t_vuelo)}\"\"\")\n",
        "  {informe_combustible(tanque1, tanque2, tanque3)}"
      ]
    },
    {
      "cell_type": "code",
      "execution_count": 71,
      "metadata": {},
      "outputs": [
        {
          "name": "stdout",
          "output_type": "stream",
          "text": [
            "Informe de estado\n",
            "  \n",
            "  Fecha y hora actual: 2022-02-14 19:34:52.695517\n",
            "  Destino: Venus\n",
            "  \n",
            "  Tiempo para el lanzamiento: 10\n",
            "  Tiempo de vuelo: 2500\n",
            "  Dia y hora de llegada: Wednesday 13:34\n",
            "\n",
            "  Promedio de combustible: 20.0\n",
            "\n",
            "  Combustible disponible en el tanque 1: 10\n",
            "  Combustible disponible en el tanque 2: 20\n",
            "  Combustible disponible en el tanque 3: 30\n",
            "  \n"
          ]
        }
      ],
      "source": [
        "#Prueba\n",
        "informe(10, 'Venus', 2500, 10, 20, 30 )"
      ]
    },
    {
      "cell_type": "markdown",
      "metadata": {},
      "source": [
        "La función es problemática porque no se puede adaptar para minutos adicionales o tanques adicionales de combustible. Hazlo más flexible permitiendo cualquier número de pasos basados en el tiempo y cualquier número de tanques. En lugar de usar `*args` y `**kwargs`, aprovecha el hecho de que puedes usar cualquier nombre que desees. Asegurate que la función sea más legible mediante el uso de nombres de variables que están asociados con las entradas, como `*minutes` y `**fuel_reservoirs`:"
      ]
    },
    {
      "cell_type": "code",
      "execution_count": 91,
      "metadata": {},
      "outputs": [],
      "source": [
        "# Escribe tu nueva función de reporte considerando lo anterior\n",
        "def informe(destino, *minutos, **reservas_combustible): \n",
        "  print(f\"\"\"Informe de estado\n",
        "  Fecha y hora actual: {datetime.now()}\n",
        "  Destino: {destino}\n",
        "  \n",
        "  Tiempo para el lanzamiento: {min(minutos)}\n",
        "  Tiempo de vuelo: {max(minutos)}\n",
        "  Dia y hora de llegada: {tiempo_vuelo(max(minutos))}\n",
        "  \"\"\")\n",
        "  informe_combustible(reservas_combustible.values())"
      ]
    },
    {
      "cell_type": "code",
      "execution_count": 92,
      "metadata": {},
      "outputs": [
        {
          "name": "stdout",
          "output_type": "stream",
          "text": [
            "Informe de estado\n",
            "  Fecha y hora actual: 2022-02-14 19:54:36.510470\n",
            "  Destino: Venus\n",
            "  \n",
            "  Tiempo para el lanzamiento: 5\n",
            "  Tiempo de vuelo: 2500\n",
            "  Dia y hora de llegada: Wednesday 13:54\n",
            "  \n"
          ]
        },
        {
          "ename": "TypeError",
          "evalue": "informe_combustible() takes 0 positional arguments but 1 was given",
          "output_type": "error",
          "traceback": [
            "\u001b[1;31m---------------------------------------------------------------------------\u001b[0m",
            "\u001b[1;31mTypeError\u001b[0m                                 Traceback (most recent call last)",
            "Input \u001b[1;32mIn [92]\u001b[0m, in \u001b[0;36m<module>\u001b[1;34m\u001b[0m\n\u001b[1;32m----> 1\u001b[0m informe(\u001b[39m'\u001b[39;49m\u001b[39mVenus\u001b[39;49m\u001b[39m'\u001b[39;49m, \u001b[39m5\u001b[39;49m, \u001b[39m2500\u001b[39;49m, tanque1\u001b[39m=\u001b[39;49m\u001b[39m10\u001b[39;49m, tanque2\u001b[39m=\u001b[39;49m\u001b[39m20\u001b[39;49m, tanque3\u001b[39m=\u001b[39;49m\u001b[39m30\u001b[39;49m)\n",
            "Input \u001b[1;32mIn [91]\u001b[0m, in \u001b[0;36minforme\u001b[1;34m(destino, *minutos, **reservas_combustible)\u001b[0m\n\u001b[0;32m      2\u001b[0m \u001b[39mdef\u001b[39;00m \u001b[39minforme\u001b[39m(destino, \u001b[39m*\u001b[39mminutos, \u001b[39m*\u001b[39m\u001b[39m*\u001b[39mreservas_combustible): \n\u001b[0;32m      3\u001b[0m   \u001b[39mprint\u001b[39m(\u001b[39mf\u001b[39m\u001b[39m\"\"\"\u001b[39m\u001b[39mInforme de estado\u001b[39m\n\u001b[0;32m      4\u001b[0m \u001b[39m  Fecha y hora actual: \u001b[39m\u001b[39m{\u001b[39;00mdatetime\u001b[39m.\u001b[39mnow()\u001b[39m}\u001b[39;00m\n\u001b[0;32m      5\u001b[0m \u001b[39m  Destino: \u001b[39m\u001b[39m{\u001b[39;00mdestino\u001b[39m}\u001b[39;00m\n\u001b[1;32m   (...)\u001b[0m\n\u001b[0;32m      9\u001b[0m \u001b[39m  Dia y hora de llegada: \u001b[39m\u001b[39m{\u001b[39;00mtiempo_vuelo(\u001b[39mmax\u001b[39m(minutos))\u001b[39m}\u001b[39;00m\n\u001b[0;32m     10\u001b[0m \u001b[39m  \u001b[39m\u001b[39m\"\"\"\u001b[39m)\n\u001b[1;32m---> 11\u001b[0m   informe_combustible(reservas_combustible\u001b[39m.\u001b[39;49mvalues())\n",
            "\u001b[1;31mTypeError\u001b[0m: informe_combustible() takes 0 positional arguments but 1 was given"
          ]
        }
      ],
      "source": [
        "informe('Venus', 5, 2500, tanque1=10, tanque2=20, tanque3=30)"
      ]
    },
    {
      "cell_type": "markdown",
      "metadata": {},
      "source": [
        "Debido a que el combustible que queda en los tanques es específico de cada tanque, actualiza la función para usar el nombre de cada tanque en el informe:"
      ]
    },
    {
      "cell_type": "code",
      "execution_count": 93,
      "metadata": {},
      "outputs": [],
      "source": [
        "# Escribe tu nueva función\n",
        "def informe(destino, *minutos, **reservas_combustible): \n",
        "  reporte = f\"\"\"Informe de estado\n",
        "  Fecha y hora actual: {datetime.now()}\n",
        "  Destino: {destino}\n",
        "  \n",
        "  Tiempo para el lanzamiento: {min(minutos)}\n",
        "  Tiempo de vuelo: {max(minutos)}\n",
        "  Dia y hora de llegada: {tiempo_vuelo(max(minutos))}\n",
        "  {informe_combustible(reservas_combustible.values())}\n",
        "  \"\"\"\n",
        "\n",
        "  for tanque, litros in reservas_combustible.items():\n",
        "      reporte += f\"{tanque} tanque contiene {litros} litros\\n\"\n",
        "  return reporte\n"
      ]
    },
    {
      "cell_type": "code",
      "execution_count": 85,
      "metadata": {},
      "outputs": [
        {
          "ename": "TypeError",
          "evalue": "informe_combustible() missing 2 required positional arguments: 'tanque2' and 'tanque3'",
          "output_type": "error",
          "traceback": [
            "\u001b[1;31m---------------------------------------------------------------------------\u001b[0m",
            "\u001b[1;31mTypeError\u001b[0m                                 Traceback (most recent call last)",
            "Input \u001b[1;32mIn [85]\u001b[0m, in \u001b[0;36m<module>\u001b[1;34m\u001b[0m\n\u001b[1;32m----> 1\u001b[0m informe(\u001b[39m'\u001b[39;49m\u001b[39mVenus\u001b[39;49m\u001b[39m'\u001b[39;49m, \u001b[39m5\u001b[39;49m, \u001b[39m2500\u001b[39;49m, tanque1\u001b[39m=\u001b[39;49m\u001b[39m10\u001b[39;49m, tanque2\u001b[39m=\u001b[39;49m\u001b[39m20\u001b[39;49m, tanque3\u001b[39m=\u001b[39;49m\u001b[39m30\u001b[39;49m)\n",
            "Input \u001b[1;32mIn [84]\u001b[0m, in \u001b[0;36minforme\u001b[1;34m(destino, *minutos, **reservas_combustible)\u001b[0m\n\u001b[0;32m      2\u001b[0m \u001b[39mdef\u001b[39;00m \u001b[39minforme\u001b[39m(destino, \u001b[39m*\u001b[39mminutos, \u001b[39m*\u001b[39m\u001b[39m*\u001b[39mreservas_combustible): \n\u001b[0;32m      3\u001b[0m   reporte \u001b[39m=\u001b[39m \u001b[39mf\u001b[39m\u001b[39m\"\"\"\u001b[39m\u001b[39mInforme de estado\u001b[39m\n\u001b[0;32m      4\u001b[0m \u001b[39m  Fecha y hora actual: \u001b[39m\u001b[39m{\u001b[39;00mdatetime\u001b[39m.\u001b[39mnow()\u001b[39m}\u001b[39;00m\n\u001b[0;32m      5\u001b[0m \u001b[39m  Destino: \u001b[39m\u001b[39m{\u001b[39;00mdestino\u001b[39m}\u001b[39;00m\n\u001b[1;32m   (...)\u001b[0m\n\u001b[0;32m      8\u001b[0m \u001b[39m  Tiempo de vuelo: \u001b[39m\u001b[39m{\u001b[39;00m\u001b[39mmax\u001b[39m(minutos)\u001b[39m}\u001b[39;00m\n\u001b[0;32m      9\u001b[0m \u001b[39m  Dia y hora de llegada: \u001b[39m\u001b[39m{\u001b[39;00mtiempo_vuelo(\u001b[39mmax\u001b[39m(minutos))\u001b[39m}\u001b[39;00m\u001b[39m\"\"\"\u001b[39m\n\u001b[1;32m---> 10\u001b[0m   informe_combustible(reservas_combustible\u001b[39m.\u001b[39;49mvalues())\n\u001b[0;32m     12\u001b[0m   \u001b[39mfor\u001b[39;00m tanque, litros \u001b[39min\u001b[39;00m reservas_combustible\u001b[39m.\u001b[39mitems():\n\u001b[0;32m     13\u001b[0m       reporte \u001b[39m+\u001b[39m\u001b[39m=\u001b[39m \u001b[39mf\u001b[39m\u001b[39m\"\u001b[39m\u001b[39m{\u001b[39;00mtanque\u001b[39m}\u001b[39;00m\u001b[39m tanque contiene \u001b[39m\u001b[39m{\u001b[39;00mlitros\u001b[39m}\u001b[39;00m\u001b[39m litros\u001b[39m\u001b[39m\\n\u001b[39;00m\u001b[39m\"\u001b[39m\n",
            "\u001b[1;31mTypeError\u001b[0m: informe_combustible() missing 2 required positional arguments: 'tanque2' and 'tanque3'"
          ]
        }
      ],
      "source": [
        "informe('Venus', 5, 2500, tanque1=10, tanque2=20, tanque3=30)"
      ]
    },
    {
      "cell_type": "markdown",
      "metadata": {},
      "source": [
        "## Soluciones"
      ]
    },
    {
      "cell_type": "markdown",
      "metadata": {},
      "source": [
        "## Ejercicio 1"
      ]
    },
    {
      "cell_type": "code",
      "execution_count": null,
      "metadata": {},
      "outputs": [],
      "source": [
        "# Función para leer 3 tanques de combustible y muestre el promedio\n",
        "\n",
        "def generate_report(main_tank, external_tank, hydrogen_tank):\n",
        "    total_average = (main_tank + external_tank + hydrogen_tank) / 3\n",
        "    return f\"\"\"Fuel Report:\n",
        "    Total Average: {total_average}%\n",
        "    Main tank: {main_tank}%\n",
        "    External tank: {external_tank}%\n",
        "    Hydrogen tank: {hydrogen_tank}% \n",
        "    \"\"\"\n"
      ]
    },
    {
      "cell_type": "code",
      "execution_count": null,
      "metadata": {},
      "outputs": [],
      "source": [
        "# Llamamos a la función que genera el reporte print(funcion(tanque1, tanque2, tanque3))\n",
        "print(generate_report(80, 70, 85))"
      ]
    },
    {
      "cell_type": "code",
      "execution_count": null,
      "metadata": {},
      "outputs": [],
      "source": [
        "# Función promedio \n",
        "def average(values):\n",
        "    total = sum(values)\n",
        "    number_of_items = len(values)\n",
        "    return total / number_of_items\n",
        "\n",
        "# Test the averaging function with a list of integers:\n",
        "average([80, 85, 81]) "
      ]
    },
    {
      "cell_type": "code",
      "execution_count": null,
      "metadata": {},
      "outputs": [],
      "source": [
        "# Actualiza la función\n",
        "def generate_report(main_tank, external_tank, hydrogen_tank):\n",
        "    return f\"\"\"Fuel Report:\n",
        "    Total Average: {average([main_tank, external_tank, hydrogen_tank])}%\n",
        "    Main tank: {main_tank}%\n",
        "    External tank: {external_tank}%\n",
        "    Hydrogen tank: {hydrogen_tank}% \n",
        "    \"\"\"\n",
        "\n",
        "# Call the updated function again with different values\n",
        "print(generate_report(88, 76, 70))"
      ]
    },
    {
      "cell_type": "markdown",
      "metadata": {},
      "source": [
        "### Ejercicio 2:"
      ]
    },
    {
      "cell_type": "code",
      "execution_count": null,
      "metadata": {},
      "outputs": [],
      "source": [
        "# Función con un informe preciso de la misión. Considera hora de prelanzamiento, tiempo de vuelo, destino, tanque externo y tanque interno\n",
        "\n",
        "def mission_report(pre_launch_time, flight_time, destination, external_tank, main_tank):\n",
        "    return f\"\"\"\n",
        "    Mission to {destination}\n",
        "    Total travel time: {pre_launch_time + flight_time} minutes\n",
        "    Total fuel left: {external_tank + main_tank} gallons\n",
        "    \"\"\"\n",
        "\n",
        "print(mission_report(14, 51, \"Moon\", 200000, 300000))"
      ]
    },
    {
      "cell_type": "code",
      "execution_count": null,
      "metadata": {},
      "outputs": [],
      "source": [
        "# Escribe tu nueva función de reporte considerando lo anterior\n",
        "\n",
        "def mission_report(destination, *minutes, **fuel_reservoirs):\n",
        "    return f\"\"\"\n",
        "    Mission to {destination}\n",
        "    Total travel time: {sum(minutes)} minutes\n",
        "    Total fuel left: {sum(fuel_reservoirs.values())}\n",
        "    \"\"\"\n",
        "\n",
        "print(mission_report(\"Moon\", 10, 15, 51, main=300000, external=200000))"
      ]
    },
    {
      "cell_type": "code",
      "execution_count": null,
      "metadata": {},
      "outputs": [],
      "source": [
        "# Escribe tu nueva función\n",
        "\n",
        "def mission_report(destination, *minutes, **fuel_reservoirs):\n",
        "    main_report = f\"\"\"\n",
        "    Mission to {destination}\n",
        "    Total travel time: {sum(minutes)} minutes\n",
        "    Total fuel left: {sum(fuel_reservoirs.values())}\n",
        "    \"\"\"\n",
        "    for tank_name, gallons in fuel_reservoirs.items():\n",
        "        main_report += f\"{tank_name} tank --> {gallons} gallons left\\n\"\n",
        "    return main_report\n",
        "\n",
        "print(mission_report(\"Moon\", 8, 11, 55, main=300000, external=200000))"
      ]
    },
    {
      "cell_type": "markdown",
      "metadata": {},
      "source": [
        "---\n",
        "\n",
        "Curso Propedútico de Python para Launch X - Innovacción Virtual.\n",
        "\n",
        "Material desarrollado con base en los contenidos de MSLearn y la metáfora de LaunchX, traducción e implementación por: Fernanda Ochoa - Learning Producer de LaunchX.\n",
        "\n",
        "Redes:\n",
        "* GitHub: [FernandaOchoa](https://github.com/FernandaOchoa)\n",
        "* Twitter: [@imonsh](https://twitter.com/imonsh)\n",
        "* Instagram: [fherz8a](https://www.instagram.com/fherz8a/)"
      ]
    }
  ],
  "metadata": {
    "interpreter": {
      "hash": "205095b8b86ea82a021a8fc2ffba2b3bc9f8d0be25999901963b225939f75778"
    },
    "kernelspec": {
      "display_name": "Python 3.8.10 64-bit ('tmp': conda)",
      "name": "python3"
    },
    "language_info": {
      "codemirror_mode": {
        "name": "ipython",
        "version": 3
      },
      "file_extension": ".py",
      "mimetype": "text/x-python",
      "name": "python",
      "nbconvert_exporter": "python",
      "pygments_lexer": "ipython3",
      "version": "3.10.0"
    },
    "nteract": {
      "version": "nteract-front-end@1.0.0"
    },
    "orig_nbformat": 4
  },
  "nbformat": 4,
  "nbformat_minor": 2
}
