{
 "cells": [
  {
   "cell_type": "markdown",
   "metadata": {},
   "source": [
    "## Ejercicio 1"
   ]
  },
  {
   "cell_type": "markdown",
   "metadata": {},
   "source": [
    "Escribir una lógica condicional que imprima una advertencia si un asteroide se acerca a la Tierra demasiado rápido."
   ]
  },
  {
   "cell_type": "code",
   "execution_count": 1,
   "metadata": {},
   "outputs": [
    {
     "name": "stdout",
     "output_type": "stream",
     "text": [
      "¡ADVERTENCIA! ¡Un asteroide se aproxima a la Tierra! 😱\n"
     ]
    }
   ],
   "source": [
    "velocidad_asteroide = 49 #km/s\n",
    "if velocidad_asteroide > 25: \n",
    "  print(\"¡ADVERTENCIA! ¡Un asteroide se aproxima a la Tierra! 😱\")\n",
    "else:\n",
    "  print('Todo tranquilo 🙂 ')"
   ]
  },
  {
   "cell_type": "markdown",
   "metadata": {},
   "source": [
    "## Ejercicio 2"
   ]
  },
  {
   "cell_type": "markdown",
   "metadata": {},
   "source": [
    "Si un asteroide entra en la atmósfera de la Tierra a una velocidad mayor o igual a 20 km/s, a veces produce un rayo de luz que se puede ver desde la Tierra. Escribe la lógica condicional que usa declaraciones if, else, y elif para alertar a las personas de todo el mundo que deben buscar un asteroide en el cielo. ¡Hay uno que se dirige a la tierra ahora a una velocidad de 19 km/s!"
   ]
  },
  {
   "cell_type": "code",
   "execution_count": 2,
   "metadata": {},
   "outputs": [
    {
     "name": "stdout",
     "output_type": "stream",
     "text": [
      "Todo tranquilo 🙂\n"
     ]
    }
   ],
   "source": [
    "velocidad_asteroide = 19 #km/s\n",
    "if velocidad_asteroide > 20: \n",
    "  print(\"¡Mira arriba! Busca un rayo de luz en el cielo 😮\")\n",
    "elif velocidad_asteroide == 20: \n",
    "  print(\"¡Mira arriba! Busca un rayo de luz en el cielo 😮\")\n",
    "else: \n",
    "  print('Todo tranquilo 🙂')\n",
    "\n",
    "\n",
    "# Codigo alterno\n",
    "#if velocidad_asteroide > 20: \n",
    "#  print(\"¡Mira arriba! Busca un rayo de luz en el cielo 😮\")\n",
    "#elif velocidad_asteroide == 20: \n",
    "#  print(\"¡Mira arriba! Busca un rayo de luz en el cielo  😮\")\n",
    "#else: \n",
    "#  print('Todo tranquilo 🙂')\n"
   ]
  },
  {
   "cell_type": "markdown",
   "metadata": {},
   "source": [
    "## Ejercicio 3"
   ]
  },
  {
   "cell_type": "markdown",
   "metadata": {},
   "source": [
    "Usando la siguiente información, escribe un programa que emita la advertencia o información correcta a la gente de la Tierra, según la velocidad y el tamaño de un asteroide. Utiliza instrucciones if, else, y elif, así como los operadores and y or.\n",
    "\n",
    "Los asteroides de menos de 25 metros en su dimensión más grande probablemente se quemarán a medida que entren en la atmósfera de la Tierra.\n",
    "\n",
    "Si una pieza de un asteroide que es más grande que 25 metros pero más pequeña que 1000 metros golpeara la Tierra, causaría mucho daño.\n",
    "También discutimos en el ejercicio anterior que:\n",
    "\n",
    "La velocidad del asteroide varía en función de lo cerca que esté del sol, y cualquier velocidad superior a 25 kilómetros por segundo (km/s) merece una advertencia.\n",
    "\n",
    "Si un asteroide entra en la atmósfera de la Tierra a una velocidad mayor o igual a 20 km/s, a veces produce un rayo de luz que se puede ver desde la Tierra.\n",
    "\n"
   ]
  },
  {
   "cell_type": "code",
   "execution_count": 13,
   "metadata": {},
   "outputs": [
    {
     "name": "stdout",
     "output_type": "stream",
     "text": [
      "¡ADVERTENCIA! ¡Un asteroide se aproxima a la Tierra! 😱\n"
     ]
    }
   ],
   "source": [
    "tamanio_asteroide = 10 #m\n",
    "velocidad_asteroide = 10 #km/s\n",
    "\n",
    "if tamanio_asteroide > 25 & tamanio_asteroide < 1000: \n",
    "  print(\"¡ADVERTENCIA! ¡Un asteroide se aproxima a la Tierra! 😱\")\n",
    "elif velocidad_asteroide > 25:\n",
    "  print(\"¡ADVERTENCIA! ¡Un asteroide se aproxima a la Tierra! 😱\")\n",
    "elif velocidad_asteroide >= 20: \n",
    "  print(\"¡Mira arriba! Busca un rayo de luz en el cielo 😮\")\n",
    "elif tamanio_asteroide < 25:\n",
    "  print('Todo tranquilo 🙂')\n",
    "else: \n",
    "  print('Todo tranquilo 🙂')\n",
    "\n",
    "#if velocidad_asteroide > 25: \n",
    "#  print(\"¡ADVERTENCIA! ¡Un asteroide se aproxima a la Tierra! 😱\")\n",
    "#elif tamanio_asteroide > 25 & tamanio_asteroide <1000:\n",
    "#  print(\"¡ADVERTENCIA! ¡Un asteroide se aproxima a la Tierra! 😱\")\n",
    "#elif velocidad_asteroide >= 20: \n",
    "#  print(\"¡Mira arriba! Busca un rayo de luz en el cielo 😮\")\n",
    "#elif tamanio_asteroide < 25: \n",
    "#  print('Todo tranquilo 🙂')\n",
    "#else: \n",
    "#  print('Todo tranquilo 🙂')"
   ]
  }
 ],
 "metadata": {
  "interpreter": {
   "hash": "b89b5cfaba6639976dc87ff2fec6d58faec662063367e2c229c520fe71072417"
  },
  "kernelspec": {
   "display_name": "Python 3.10.0 64-bit",
   "language": "python",
   "name": "python3"
  },
  "language_info": {
   "codemirror_mode": {
    "name": "ipython",
    "version": 3
   },
   "file_extension": ".py",
   "mimetype": "text/x-python",
   "name": "python",
   "nbconvert_exporter": "python",
   "pygments_lexer": "ipython3",
   "version": "3.10.0"
  },
  "orig_nbformat": 4
 },
 "nbformat": 4,
 "nbformat_minor": 2
}
